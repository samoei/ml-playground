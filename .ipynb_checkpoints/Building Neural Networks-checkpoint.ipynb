{
 "cells": [
  {
   "cell_type": "markdown",
   "metadata": {},
   "source": [
    "## Building Neural Netweorks in PyTorch"
   ]
  },
  {
   "cell_type": "code",
   "execution_count": 115,
   "metadata": {},
   "outputs": [],
   "source": [
    "from torch import nn, optim\n",
    "from torch.nn.functional import sigmoid, softmax, relu\n",
    "import helper\n",
    "import torch\n",
    "import matplotlib.pyplot as plt\n",
    "from torchvision import datasets, transforms\n",
    "from collections import OrderedDict"
   ]
  },
  {
   "cell_type": "markdown",
   "metadata": {},
   "source": [
    "### Single Layer Network"
   ]
  },
  {
   "cell_type": "code",
   "execution_count": 43,
   "metadata": {},
   "outputs": [],
   "source": [
    "class NeuralNet(nn.Module):\n",
    "    def __init__(self):\n",
    "        super().__init__()\n",
    "    \n",
    "        self.input = nn.Linear(784,256)\n",
    "    \n",
    "        self.ouput = nn.Linear(256,10)\n",
    "    \n",
    "    def feedforward(self,x):\n",
    "        x = sigmoid(self.input(x))\n",
    "        x = softmax(self.ouput(x), dim=1)\n",
    "        return x\n",
    "    "
   ]
  },
  {
   "cell_type": "markdown",
   "metadata": {},
   "source": [
    "### Multi Layer Network"
   ]
  },
  {
   "cell_type": "markdown",
   "metadata": {},
   "source": [
    "<img src=\"assets/mlp_mnist.png\" width=600px>\n",
    "\n",
    "> **Exercise:** Create a network with 784 input units, a hidden layer with 128 units and a ReLU activation, then a hidden layer with 64 units and a ReLU activation, and finally an output layer with a softmax activation as shown above. You can use a ReLU activation with the `nn.ReLU` module or `F.relu` function."
   ]
  },
  {
   "cell_type": "code",
   "execution_count": 57,
   "metadata": {},
   "outputs": [],
   "source": [
    "class MultiLayerNet(nn.Module):\n",
    "    def __init__(self):\n",
    "        super().__init__()\n",
    "        self.hidden_layer_1 = nn.Linear(784, 128)\n",
    "        self.hidden_layer_2 = nn.Linear(128, 64)\n",
    "        self.output_layer = nn.Linear(64, 10)\n",
    "        \n",
    "    def forward(self, x):\n",
    "        x = relu(self.hidden_layer_1(x))\n",
    "        x = relu(self.hidden_layer_2(x))\n",
    "        x = softmax(self.output_layer(x), dim=1)\n",
    "        return x"
   ]
  },
  {
   "cell_type": "code",
   "execution_count": 58,
   "metadata": {},
   "outputs": [
    {
     "data": {
      "text/plain": [
       "MultiLayerNet(\n",
       "  (hidden_layer_1): Linear(in_features=784, out_features=128, bias=True)\n",
       "  (hidden_layer_2): Linear(in_features=128, out_features=64, bias=True)\n",
       "  (output_layer): Linear(in_features=64, out_features=10, bias=True)\n",
       ")"
      ]
     },
     "execution_count": 58,
     "metadata": {},
     "output_type": "execute_result"
    }
   ],
   "source": [
    "model = MultiLayerNet()\n",
    "model"
   ]
  },
  {
   "cell_type": "markdown",
   "metadata": {},
   "source": [
    "### Initializing weights and biases"
   ]
  },
  {
   "cell_type": "markdown",
   "metadata": {},
   "source": [
    "Check the weights & bias automatically generated for us when we used `nn.Linear` "
   ]
  },
  {
   "cell_type": "code",
   "execution_count": 59,
   "metadata": {},
   "outputs": [
    {
     "data": {
      "text/plain": [
       "Parameter containing:\n",
       "tensor([[-0.0174, -0.0345, -0.0340,  ...,  0.0005, -0.0057, -0.0262],\n",
       "        [ 0.0242,  0.0298,  0.0130,  ...,  0.0213, -0.0014,  0.0110],\n",
       "        [ 0.0111, -0.0095, -0.0225,  ...,  0.0163, -0.0177,  0.0160],\n",
       "        ...,\n",
       "        [-0.0115,  0.0028, -0.0168,  ..., -0.0304, -0.0306, -0.0072],\n",
       "        [ 0.0022,  0.0319,  0.0121,  ..., -0.0200,  0.0212,  0.0286],\n",
       "        [ 0.0096,  0.0164,  0.0169,  ...,  0.0117,  0.0300, -0.0016]],\n",
       "       requires_grad=True)"
      ]
     },
     "execution_count": 59,
     "metadata": {},
     "output_type": "execute_result"
    }
   ],
   "source": [
    "model.hidden_layer_1.weight"
   ]
  },
  {
   "cell_type": "code",
   "execution_count": 60,
   "metadata": {},
   "outputs": [
    {
     "data": {
      "text/plain": [
       "Parameter containing:\n",
       "tensor([-0.0297, -0.0140,  0.0308, -0.0028, -0.0093, -0.0134,  0.0193,  0.0297,\n",
       "        -0.0131, -0.0075,  0.0348, -0.0145,  0.0238,  0.0355,  0.0322,  0.0042,\n",
       "        -0.0150, -0.0161,  0.0213,  0.0305, -0.0078, -0.0185, -0.0305, -0.0351,\n",
       "         0.0327,  0.0323,  0.0274,  0.0011,  0.0228,  0.0038,  0.0166, -0.0273,\n",
       "        -0.0274,  0.0058, -0.0146, -0.0160,  0.0049,  0.0001, -0.0176,  0.0136,\n",
       "         0.0209,  0.0299,  0.0178, -0.0102,  0.0329, -0.0320, -0.0193,  0.0116,\n",
       "        -0.0112,  0.0053,  0.0281,  0.0020, -0.0276,  0.0187, -0.0021, -0.0005,\n",
       "         0.0304,  0.0241, -0.0328,  0.0061,  0.0047, -0.0062,  0.0269,  0.0057,\n",
       "         0.0287,  0.0215, -0.0211,  0.0300,  0.0276,  0.0293,  0.0180,  0.0208,\n",
       "        -0.0337,  0.0327,  0.0229,  0.0194,  0.0325, -0.0305, -0.0005,  0.0185,\n",
       "         0.0003,  0.0168, -0.0305,  0.0241, -0.0238,  0.0076,  0.0338,  0.0069,\n",
       "         0.0115, -0.0192, -0.0320,  0.0137,  0.0214,  0.0231,  0.0278, -0.0112,\n",
       "         0.0058,  0.0288,  0.0294, -0.0295, -0.0198, -0.0346, -0.0284, -0.0126,\n",
       "        -0.0122,  0.0272, -0.0117,  0.0261,  0.0055, -0.0200, -0.0125, -0.0140,\n",
       "        -0.0307,  0.0222, -0.0224,  0.0071, -0.0250,  0.0303,  0.0155,  0.0334,\n",
       "         0.0145, -0.0134, -0.0312, -0.0031,  0.0097, -0.0004,  0.0339, -0.0192],\n",
       "       requires_grad=True)"
      ]
     },
     "execution_count": 60,
     "metadata": {},
     "output_type": "execute_result"
    }
   ],
   "source": [
    "model.hidden_layer_1.bias"
   ]
  },
  {
   "cell_type": "markdown",
   "metadata": {},
   "source": [
    "### Custom Initialization of Weights and Bias"
   ]
  },
  {
   "cell_type": "markdown",
   "metadata": {},
   "source": [
    "When we check the auto generated weights and bias using `model.hidden_layer_1.weight` & `model.hidden_layer_1.bias` we only get to see the _Autogard_ values. To modify these weights we need to get the real tensors representing the weights and bias using `model.hidden_layer_1.weight.data` & `model.hidden_layer_1.bias.data` as below"
   ]
  },
  {
   "cell_type": "code",
   "execution_count": 62,
   "metadata": {},
   "outputs": [
    {
     "data": {
      "text/plain": [
       "tensor([[-0.0098,  0.0107, -0.0001,  ..., -0.0127, -0.0147, -0.0002],\n",
       "        [-0.0080,  0.0038,  0.0020,  ...,  0.0005,  0.0129, -0.0142],\n",
       "        [-0.0030, -0.0113,  0.0028,  ...,  0.0074,  0.0068,  0.0046],\n",
       "        ...,\n",
       "        [ 0.0113,  0.0040, -0.0173,  ..., -0.0006, -0.0061,  0.0128],\n",
       "        [ 0.0099, -0.0149,  0.0020,  ...,  0.0071,  0.0042, -0.0070],\n",
       "        [ 0.0077, -0.0088, -0.0131,  ...,  0.0059,  0.0079,  0.0091]])"
      ]
     },
     "execution_count": 62,
     "metadata": {},
     "output_type": "execute_result"
    }
   ],
   "source": [
    "# Initialize the Weights normal random values with a standard deviation on 0.01\n",
    "model.hidden_layer_1.weight.data.normal_(std=0.01)"
   ]
  },
  {
   "cell_type": "code",
   "execution_count": 63,
   "metadata": {},
   "outputs": [
    {
     "data": {
      "text/plain": [
       "tensor([0., 0., 0., 0., 0., 0., 0., 0., 0., 0., 0., 0., 0., 0., 0., 0., 0., 0.,\n",
       "        0., 0., 0., 0., 0., 0., 0., 0., 0., 0., 0., 0., 0., 0., 0., 0., 0., 0.,\n",
       "        0., 0., 0., 0., 0., 0., 0., 0., 0., 0., 0., 0., 0., 0., 0., 0., 0., 0.,\n",
       "        0., 0., 0., 0., 0., 0., 0., 0., 0., 0., 0., 0., 0., 0., 0., 0., 0., 0.,\n",
       "        0., 0., 0., 0., 0., 0., 0., 0., 0., 0., 0., 0., 0., 0., 0., 0., 0., 0.,\n",
       "        0., 0., 0., 0., 0., 0., 0., 0., 0., 0., 0., 0., 0., 0., 0., 0., 0., 0.,\n",
       "        0., 0., 0., 0., 0., 0., 0., 0., 0., 0., 0., 0., 0., 0., 0., 0., 0., 0.,\n",
       "        0., 0.])"
      ]
     },
     "execution_count": 63,
     "metadata": {},
     "output_type": "execute_result"
    }
   ],
   "source": [
    "model.hidden_layer_1.bias.data.fill_(0)"
   ]
  },
  {
   "cell_type": "markdown",
   "metadata": {},
   "source": [
    "### Forward pass"
   ]
  },
  {
   "cell_type": "markdown",
   "metadata": {},
   "source": [
    "Pass an image to see how good the model is"
   ]
  },
  {
   "cell_type": "code",
   "execution_count": 70,
   "metadata": {},
   "outputs": [],
   "source": [
    "# Download images\n",
    "\n",
    "# Images location\n",
    "data_location = '/Users/philsamoei/projects/ML/udacity/scholarshipchallenge/deep-learning-v2-pytorch/data'\n",
    "data_location+'/MNIST_data'\n",
    "\n",
    "# Define a transform to normalize the data\n",
    "transform = transforms.Compose([transforms.ToTensor(),\n",
    "                                transforms.Normalize((0.5, 0.5, 0.5), (0.5, 0.5, 0.5)),\n",
    "                              ])\n",
    "# Download and load the training data\n",
    "trainset = datasets.MNIST(data_location+'/MNIST_data', download=True, train=True, transform=transform)\n",
    "trainloader = torch.utils.data.DataLoader(trainset, batch_size=64, shuffle=True)"
   ]
  },
  {
   "cell_type": "code",
   "execution_count": 71,
   "metadata": {},
   "outputs": [
    {
     "name": "stdout",
     "output_type": "stream",
     "text": [
      "<class 'torch.Tensor'>\n",
      "torch.Size([64, 1, 28, 28])\n",
      "torch.Size([64])\n"
     ]
    }
   ],
   "source": [
    "dataiter = iter(trainloader)\n",
    "images, labels = dataiter.next()\n",
    "print(type(images))\n",
    "print(images.shape)\n",
    "print(labels.shape)"
   ]
  },
  {
   "cell_type": "code",
   "execution_count": 74,
   "metadata": {},
   "outputs": [
    {
     "data": {
      "image/png": "[encoded data removed]",
      "text/plain": [
       "<Figure size 432x648 with 2 Axes>"
      ]
     },
     "metadata": {},
     "output_type": "display_data"
    }
   ],
   "source": [
    "dataiter = iter(trainloader)\n",
    "\n",
    "images, labels = dataiter.next()\n",
    "\n",
    "# images.resize_(64,1,784)\n",
    "\n",
    "# Resize images into a 1D vector, new shape is (batch size, color channels, image pixels) \n",
    "# images.resize_(64, 1, 784)\n",
    "images.resize_(images.shape[0], 1, 784)\n",
    "\n",
    "img_idx = 0\n",
    "\n",
    "ps = model.forward(images[img_idx,:])\n",
    "\n",
    "img = images[img_idx]\n",
    "\n",
    "helper.view_classify(img.view(1,28, 28), ps)"
   ]
  },
  {
   "cell_type": "markdown",
   "metadata": {},
   "source": [
    "Because our model is not trained it does not understand the images its being shown"
   ]
  },
  {
   "cell_type": "markdown",
   "metadata": {},
   "source": [
    "### Training our Model"
   ]
  },
  {
   "cell_type": "markdown",
   "metadata": {},
   "source": [
    "For training we will use `nn.Sequential` to make it easier to build a network that we can pass the params sequentially."
   ]
  },
  {
   "cell_type": "code",
   "execution_count": 122,
   "metadata": {},
   "outputs": [],
   "source": [
    "input_layer = 784\n",
    "hidden_layers = [128, 64]\n",
    "output = 10\n",
    "model = nn.Sequential(OrderedDict([\n",
    "    (\"hidden_layer1\", nn.Linear(input_layer, hidden_layers[0])),\n",
    "    (\"relu1\", nn.ReLU()),\n",
    "    (\"hidden_layer2\", nn.Linear(hidden_layers[0], hidden_layers[1])),\n",
    "    (\"relu2\", nn.ReLU()),\n",
    "    (\"output\", nn.Linear(hidden_layers[1], output)),\n",
    "    (\"softmax\", nn.LogSoftmax(dim=1))\n",
    "]))\n",
    "\n",
    "\n",
    "# Define the loss\n",
    "criterion = nn.NLLLoss()\n",
    "\n",
    "# Grab some data for testing\n",
    "images, label = next(iter(trainloader))\n",
    "\n",
    "# Flatten images\n",
    "images = images.view(images.shape[0], -1)\n",
    "\n",
    "# Forward pass to get our logits/scores\n",
    "log_probabilities = model(images)\n",
    "\n",
    "# Calculate the loss\n",
    "loss = criterion(log_probabilities, labels)"
   ]
  },
  {
   "cell_type": "code",
   "execution_count": 123,
   "metadata": {},
   "outputs": [
    {
     "data": {
      "text/plain": [
       "Sequential(\n",
       "  (hidden_layer1): Linear(in_features=784, out_features=128, bias=True)\n",
       "  (relu1): ReLU()\n",
       "  (hidden_layer2): Linear(in_features=128, out_features=64, bias=True)\n",
       "  (relu2): ReLU()\n",
       "  (output): Linear(in_features=64, out_features=10, bias=True)\n",
       "  (softmax): LogSoftmax()\n",
       ")"
      ]
     },
     "execution_count": 123,
     "metadata": {},
     "output_type": "execute_result"
    }
   ],
   "source": [
    "model"
   ]
  },
  {
   "cell_type": "code",
   "execution_count": 88,
   "metadata": {},
   "outputs": [
    {
     "data": {
      "text/plain": [
       "Linear(in_features=784, out_features=128, bias=True)"
      ]
     },
     "execution_count": 88,
     "metadata": {},
     "output_type": "execute_result"
    }
   ],
   "source": [
    "model.hidden_layer1"
   ]
  },
  {
   "cell_type": "code",
   "execution_count": 90,
   "metadata": {},
   "outputs": [
    {
     "data": {
      "text/plain": [
       "tensor(2.3297, grad_fn=<NllLossBackward>)"
      ]
     },
     "execution_count": 90,
     "metadata": {},
     "output_type": "execute_result"
    }
   ],
   "source": [
    "loss"
   ]
  },
  {
   "cell_type": "markdown",
   "metadata": {},
   "source": [
    "## Autograd"
   ]
  },
  {
   "cell_type": "markdown",
   "metadata": {},
   "source": [
    "Automatically calculates the gradients of tensors. It works by keeping track on operations performed on the tensors then it can go back while calculating the gradients, hence _Backpropagation_"
   ]
  },
  {
   "cell_type": "code",
   "execution_count": 92,
   "metadata": {},
   "outputs": [],
   "source": [
    "x = torch.zeros(1, requires_grad=True)\n",
    "with torch.no_grad():\n",
    "    y = x*2"
   ]
  },
  {
   "cell_type": "code",
   "execution_count": 93,
   "metadata": {},
   "outputs": [
    {
     "data": {
      "text/plain": [
       "False"
      ]
     },
     "execution_count": 93,
     "metadata": {},
     "output_type": "execute_result"
    }
   ],
   "source": [
    "y.requires_grad"
   ]
  },
  {
   "cell_type": "code",
   "execution_count": 94,
   "metadata": {},
   "outputs": [
    {
     "data": {
      "text/plain": [
       "tensor([0.])"
      ]
     },
     "execution_count": 94,
     "metadata": {},
     "output_type": "execute_result"
    }
   ],
   "source": [
    "y"
   ]
  },
  {
   "cell_type": "code",
   "execution_count": 95,
   "metadata": {},
   "outputs": [
    {
     "data": {
      "text/plain": [
       "tensor([0.], requires_grad=True)"
      ]
     },
     "execution_count": 95,
     "metadata": {},
     "output_type": "execute_result"
    }
   ],
   "source": [
    "x"
   ]
  },
  {
   "cell_type": "code",
   "execution_count": 96,
   "metadata": {},
   "outputs": [],
   "source": [
    "x = torch.randn(2, 2, requires_grad=True)"
   ]
  },
  {
   "cell_type": "code",
   "execution_count": 97,
   "metadata": {},
   "outputs": [
    {
     "data": {
      "text/plain": [
       "tensor([[ 2.5440,  1.0209],\n",
       "        [-0.0572,  1.0329]], requires_grad=True)"
      ]
     },
     "execution_count": 97,
     "metadata": {},
     "output_type": "execute_result"
    }
   ],
   "source": [
    "x"
   ]
  },
  {
   "cell_type": "code",
   "execution_count": 98,
   "metadata": {},
   "outputs": [],
   "source": [
    "y = x * 2"
   ]
  },
  {
   "cell_type": "code",
   "execution_count": 99,
   "metadata": {},
   "outputs": [
    {
     "data": {
      "text/plain": [
       "tensor([[ 5.0881,  2.0419],\n",
       "        [-0.1145,  2.0658]], grad_fn=<MulBackward>)"
      ]
     },
     "execution_count": 99,
     "metadata": {},
     "output_type": "execute_result"
    }
   ],
   "source": [
    "y"
   ]
  },
  {
   "cell_type": "code",
   "execution_count": 100,
   "metadata": {},
   "outputs": [
    {
     "data": {
      "text/plain": [
       "<MulBackward at 0x128c08da0>"
      ]
     },
     "execution_count": 100,
     "metadata": {},
     "output_type": "execute_result"
    }
   ],
   "source": [
    "y.grad_fn"
   ]
  },
  {
   "cell_type": "code",
   "execution_count": 101,
   "metadata": {},
   "outputs": [
    {
     "data": {
      "text/plain": [
       "tensor(2.2703, grad_fn=<MeanBackward1>)"
      ]
     },
     "execution_count": 101,
     "metadata": {},
     "output_type": "execute_result"
    }
   ],
   "source": [
    "z = y.mean()\n",
    "z"
   ]
  },
  {
   "cell_type": "code",
   "execution_count": 102,
   "metadata": {},
   "outputs": [],
   "source": [
    "# Check if we have any gradient so far for x\n",
    "x.grad"
   ]
  },
  {
   "cell_type": "code",
   "execution_count": 103,
   "metadata": {},
   "outputs": [],
   "source": [
    "# Check if we have any gradient so far for y\n",
    "y.grad"
   ]
  },
  {
   "cell_type": "code",
   "execution_count": 105,
   "metadata": {},
   "outputs": [],
   "source": [
    "# Check if we have any gradient so far for z\n",
    "z.grad"
   ]
  },
  {
   "cell_type": "code",
   "execution_count": 106,
   "metadata": {},
   "outputs": [],
   "source": [
    "# To calculate the gradients run backwards on variable z\n",
    "z.backward()"
   ]
  },
  {
   "cell_type": "code",
   "execution_count": 107,
   "metadata": {},
   "outputs": [
    {
     "data": {
      "text/plain": [
       "tensor([[0.5000, 0.5000],\n",
       "        [0.5000, 0.5000]])"
      ]
     },
     "execution_count": 107,
     "metadata": {},
     "output_type": "execute_result"
    }
   ],
   "source": [
    "# Check if we have any gradient so far for x\n",
    "x.grad"
   ]
  },
  {
   "cell_type": "code",
   "execution_count": 110,
   "metadata": {},
   "outputs": [],
   "source": [
    "# Check if we have any gradient so far for y\n",
    "y.grad"
   ]
  },
  {
   "cell_type": "code",
   "execution_count": 111,
   "metadata": {},
   "outputs": [
    {
     "name": "stdout",
     "output_type": "stream",
     "text": [
      "Before backward pass: \n",
      " None\n"
     ]
    }
   ],
   "source": [
    "print(\"Before backward pass: \\n\", model.hidden_layer1.weight.grad)"
   ]
  },
  {
   "cell_type": "code",
   "execution_count": 113,
   "metadata": {},
   "outputs": [],
   "source": [
    "loss.backward()"
   ]
  },
  {
   "cell_type": "code",
   "execution_count": 114,
   "metadata": {},
   "outputs": [
    {
     "name": "stdout",
     "output_type": "stream",
     "text": [
      "After backward pass: \n",
      " tensor([[-0.0045, -0.0045, -0.0045,  ..., -0.0045, -0.0045, -0.0045],\n",
      "        [-0.0003, -0.0003, -0.0003,  ..., -0.0003, -0.0003, -0.0003],\n",
      "        [-0.0044, -0.0044, -0.0044,  ..., -0.0044, -0.0044, -0.0044],\n",
      "        ...,\n",
      "        [-0.0003, -0.0003, -0.0003,  ..., -0.0003, -0.0003, -0.0003],\n",
      "        [ 0.0004,  0.0004,  0.0004,  ...,  0.0004,  0.0004,  0.0004],\n",
      "        [-0.0011, -0.0011, -0.0011,  ..., -0.0011, -0.0011, -0.0011]])\n"
     ]
    }
   ],
   "source": [
    "print(\"After backward pass: \\n\", model.hidden_layer1.weight.grad)"
   ]
  },
  {
   "cell_type": "markdown",
   "metadata": {},
   "source": [
    "### Optimization"
   ]
  },
  {
   "cell_type": "markdown",
   "metadata": {},
   "source": [
    "Optimaztion is updating the weights with the gradients\n",
    "\n",
    "The general process of training a network in pytorch is\n",
    "\n",
    "* Do a forward pass on the model\n",
    "* Calculate the loss from the forward pass\n",
    "* Calculate the gradients by performing a backward pass on the loss\n",
    "* Use the optimizer to update the weights using the calculated gradients"
   ]
  },
  {
   "cell_type": "code",
   "execution_count": 128,
   "metadata": {},
   "outputs": [
    {
     "name": "stdout",
     "output_type": "stream",
     "text": [
      "Initial Weights: \n",
      " Parameter containing:\n",
      "tensor([[ 0.0330, -0.0051,  0.0234,  ...,  0.0317, -0.0270, -0.0156],\n",
      "        [ 0.0218,  0.0194, -0.0035,  ...,  0.0339,  0.0141, -0.0317],\n",
      "        [ 0.0230,  0.0000,  0.0037,  ...,  0.0035, -0.0303,  0.0281],\n",
      "        ...,\n",
      "        [ 0.0071,  0.0138, -0.0155,  ...,  0.0193,  0.0124,  0.0240],\n",
      "        [ 0.0262,  0.0158, -0.0113,  ..., -0.0257, -0.0249,  0.0147],\n",
      "        [-0.0061, -0.0006, -0.0127,  ...,  0.0345, -0.0206,  0.0248]],\n",
      "       requires_grad=True)\n",
      "Gradients: \n",
      " tensor([[ 0.0000,  0.0000,  0.0000,  ...,  0.0000,  0.0000,  0.0000],\n",
      "        [ 0.0014,  0.0014,  0.0014,  ...,  0.0014,  0.0014,  0.0014],\n",
      "        [-0.0009, -0.0009, -0.0009,  ..., -0.0009, -0.0009, -0.0009],\n",
      "        ...,\n",
      "        [-0.0021, -0.0021, -0.0021,  ..., -0.0021, -0.0021, -0.0021],\n",
      "        [ 0.0001,  0.0001,  0.0001,  ...,  0.0001,  0.0001,  0.0001],\n",
      "        [ 0.0004,  0.0004,  0.0004,  ...,  0.0004,  0.0004,  0.0004]])\n",
      "Updated Weights: \n",
      " Parameter containing:\n",
      "tensor([[ 0.0330, -0.0051,  0.0234,  ...,  0.0317, -0.0270, -0.0156],\n",
      "        [ 0.0218,  0.0194, -0.0036,  ...,  0.0339,  0.0140, -0.0317],\n",
      "        [ 0.0230,  0.0000,  0.0037,  ...,  0.0035, -0.0302,  0.0281],\n",
      "        ...,\n",
      "        [ 0.0071,  0.0138, -0.0155,  ...,  0.0193,  0.0124,  0.0240],\n",
      "        [ 0.0262,  0.0158, -0.0113,  ..., -0.0257, -0.0249,  0.0147],\n",
      "        [-0.0062, -0.0006, -0.0127,  ...,  0.0345, -0.0206,  0.0248]],\n",
      "       requires_grad=True)\n"
     ]
    }
   ],
   "source": [
    "print(\"Initial Weights: \\n\", model.hidden_layer1.weight)\n",
    "images, labels = next(iter(trainloader))\n",
    "images = images.view(images.shape[0], -1)\n",
    "# optimizers requires the paramters to update and the learning rate\n",
    "optimizer = optim.SGD(model.parameters(), lr=0.003)\n",
    "# Clear the gradients becuase for every backward pass its accumulated\n",
    "optimizer.zero_grad()\n",
    "\n",
    "# Forward pass\n",
    "log_probs = model(images)\n",
    "#calculate loss\n",
    "loss = criterion(log_probs, labels)\n",
    "#backward pass\n",
    "loss.backward()\n",
    "print(\"Gradients: \\n\", model.hidden_layer1.weight.grad)\n",
    "#update weights\n",
    "optimizer.step()\n",
    "print(\"Updated Weights: \\n\", model.hidden_layer1.weight)"
   ]
  },
  {
   "cell_type": "markdown",
   "metadata": {},
   "source": [
    "### Fully Implemented neural network capable of predicting handwritten digits"
   ]
  },
  {
   "cell_type": "code",
   "execution_count": 137,
   "metadata": {},
   "outputs": [
    {
     "name": "stdout",
     "output_type": "stream",
     "text": [
      "Training loss: 1.9292910637886032\n",
      "Training loss: 0.8607724097047025\n",
      "Training loss: 0.5315849918451137\n",
      "Training loss: 0.43674332333970933\n",
      "Training loss: 0.3917511620882478\n",
      "Training loss: 0.3648292372888848\n",
      "Training loss: 0.3458736185183022\n",
      "Training loss: 0.331572781509555\n",
      "Training loss: 0.3199742227586221\n",
      "Training loss: 0.30960311987665673\n",
      "Training loss: 0.300659416175918\n",
      "Training loss: 0.29250535643748893\n",
      "Training loss: 0.28458353981121515\n",
      "Training loss: 0.2772412703140204\n",
      "Training loss: 0.2703358804239139\n"
     ]
    }
   ],
   "source": [
    "# Create the model\n",
    "model = nn.Sequential(OrderedDict([\n",
    "    (\"layer1\", nn.Linear(input_layer, hidden_layers[0])),\n",
    "    (\"relu1\", nn.ReLU()),\n",
    "    (\"layer2\", nn.Linear(hidden_layers[0], hidden_layers[1])),\n",
    "    (\"relu2\", nn.ReLU()),\n",
    "    (\"output_layer\", nn.Linear(hidden_layers[1], output)),\n",
    "    (\"softmax\", nn.LogSoftmax(dim=1))\n",
    "]))\n",
    "\n",
    "# Define the cost function AKA loss function\n",
    "criterion = nn.NLLLoss()\n",
    "\n",
    "# Define the optimization strategy used to update the weights\n",
    "optimizer = optim.SGD(model.parameters(), lr=0.003)\n",
    "\n",
    "# Define the number of epochs\n",
    "epochs = 15\n",
    "\n",
    "# Train the model for the number of epochs\n",
    "for e in range(epochs):\n",
    "    current_loss = 0\n",
    "    for images, labels in trainloader:\n",
    "        # Flatten images\n",
    "        images = images.view(images.shape[0], -1)\n",
    "        \n",
    "        # reset the optimizer\n",
    "        optimizer.zero_grad()\n",
    "        \n",
    "        # Do a forward pass\n",
    "        log_probabilities = model(images)\n",
    "        \n",
    "        # Calculate loss\n",
    "        loss = criterion(log_probabilities, labels)\n",
    "        \n",
    "        # Generate the gradients\n",
    "        loss.backward()\n",
    "        \n",
    "        # Update the weights\n",
    "        optimizer.step()\n",
    "        \n",
    "        # Combine the loss for the bacth\n",
    "        current_loss += loss.item()\n",
    "        \n",
    "    else:\n",
    "        print(f\"Training loss: {current_loss/len(trainloader)}\")\n",
    "        "
   ]
  },
  {
   "cell_type": "code",
   "execution_count": 177,
   "metadata": {},
   "outputs": [
    {
     "data": {
      "image/png": "[encoded data removed]",
      "text/plain": [
       "<Figure size 432x648 with 2 Axes>"
      ]
     },
     "metadata": {},
     "output_type": "display_data"
    }
   ],
   "source": [
    "%matplotlib inline\n",
    "import helper\n",
    "\n",
    "images, labels = next(iter(trainloader))\n",
    "\n",
    "img = images[0].view(1, 784)\n",
    "# Turn off gradients to speed up this part\n",
    "with torch.no_grad():\n",
    "    logps = model(img)\n",
    "\n",
    "# Output of the network are log-probabilities, need to take exponential for probabilities\n",
    "ps = torch.exp(logps)\n",
    "helper.view_classify(img.view(1, 28, 28), ps)"
   ]
  },
  {
   "cell_type": "code",
   "execution_count": null,
   "metadata": {},
   "outputs": [],
   "source": []
  },
  {
   "cell_type": "code",
   "execution_count": null,
   "metadata": {},
   "outputs": [],
   "source": []
  }
 ],
 "metadata": {
  "kernelspec": {
   "display_name": "Python 3",
   "language": "python",
   "name": "python3"
  },
  "language_info": {
   "codemirror_mode": {
    "name": "ipython",
    "version": 3
   },
   "file_extension": ".py",
   "mimetype": "text/x-python",
   "name": "python",
   "nbconvert_exporter": "python",
   "pygments_lexer": "ipython3",
   "version": "3.6.5"
  }
 },
 "nbformat": 4,
 "nbformat_minor": 2
}
