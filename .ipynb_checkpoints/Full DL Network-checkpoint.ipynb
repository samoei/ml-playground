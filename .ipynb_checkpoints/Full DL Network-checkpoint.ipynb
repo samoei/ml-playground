{
 "cells": [
  {
   "cell_type": "markdown",
   "metadata": {},
   "source": [
    "# Full DL Network"
   ]
  },
  {
   "cell_type": "code",
   "execution_count": 3,
   "metadata": {},
   "outputs": [],
   "source": [
    "# Imports\n",
    "import torch\n",
    "from torch import nn, optim\n",
    "from torch.nn import functional as F\n",
    "from torchvision import datasets, transforms\n",
    "\n",
    "%matplotlib inline\n",
    "%config InlineBackend.figure_format = 'retina'\n",
    "\n",
    "import matplotlib.pyplot as plt\n",
    "\n",
    "# Data location\n",
    "data_location = '/Users/philsamoei/projects/ML/udacity/scholarshipchallenge/deep-learning-v2-pytorch/data/F_MNIST_data/'\n"
   ]
  },
  {
   "cell_type": "markdown",
   "metadata": {},
   "source": [
    "### Grab data"
   ]
  },
  {
   "cell_type": "code",
   "execution_count": 4,
   "metadata": {},
   "outputs": [],
   "source": [
    "# Define transform to normalize the data\n",
    "transform = transforms.Compose([transforms.ToTensor(), transforms.Normalize((0.5,0.5,0.5),(0.5,0.5,0.5))])\n",
    "\n",
    "#Download and load the training data\n",
    "trainset = datasets.FashionMNIST(data_location, download=True, train=True, transform=transform)\n",
    "trainloader = torch.utils.data.DataLoader(trainset, shuffle=True, batch_size=64)\n",
    "\n",
    "# Download and load validation data\n",
    "testset = datasets.FashionMNIST(data_location, download=True, train=False, transform=transform)\n",
    "testloader = torch.utils.data.DataLoader(testset, batch_size=64, shuffle=True)"
   ]
  },
  {
   "cell_type": "markdown",
   "metadata": {},
   "source": [
    "### Build the model"
   ]
  },
  {
   "cell_type": "code",
   "execution_count": 13,
   "metadata": {},
   "outputs": [],
   "source": [
    "class Classifier(nn.Module):\n",
    "    def __init__(self):\n",
    "        super().__init__()\n",
    "        self.fc1 = nn.Linear(784, 392)\n",
    "        self.fc2 = nn.Linear(392, 196)\n",
    "        self.fc3 = nn.Linear(196, 128)\n",
    "        self.fc4 = nn.Linear(128, 64)\n",
    "        self.fc5 = nn.Linear(64, 10)\n",
    "        \n",
    "    def forward(self, x):\n",
    "        # Flatten the incoming tensor\n",
    "        x = x.view(x.shape[0], -1)\n",
    "        \n",
    "        x = F.relu(self.fc1(x))\n",
    "        x = F.relu(self.fc2(x))\n",
    "        x = F.relu(self.fc3(x))\n",
    "        x = F.relu(self.fc4(x))\n",
    "        x = F.log_softmax(self.fc5(x), dim=1)\n",
    "        \n",
    "        return x"
   ]
  },
  {
   "cell_type": "markdown",
   "metadata": {},
   "source": [
    "### Train & Validate"
   ]
  },
  {
   "cell_type": "code",
   "execution_count": 14,
   "metadata": {},
   "outputs": [
    {
     "name": "stdout",
     "output_type": "stream",
     "text": [
      "Epoch: 1/30..  Training Loss: 0.536..  Test Loss: 0.448..  Test Accuracy: 0.843\n",
      "Epoch: 2/30..  Training Loss: 0.407..  Test Loss: 0.409..  Test Accuracy: 0.856\n",
      "Epoch: 3/30..  Training Loss: 0.368..  Test Loss: 0.405..  Test Accuracy: 0.853\n",
      "Epoch: 4/30..  Training Loss: 0.343..  Test Loss: 0.375..  Test Accuracy: 0.861\n",
      "Epoch: 5/30..  Training Loss: 0.323..  Test Loss: 0.403..  Test Accuracy: 0.858\n",
      "Epoch: 6/30..  Training Loss: 0.309..  Test Loss: 0.381..  Test Accuracy: 0.866\n",
      "Epoch: 7/30..  Training Loss: 0.299..  Test Loss: 0.378..  Test Accuracy: 0.865\n",
      "Epoch: 8/30..  Training Loss: 0.289..  Test Loss: 0.383..  Test Accuracy: 0.872\n",
      "Epoch: 9/30..  Training Loss: 0.279..  Test Loss: 0.405..  Test Accuracy: 0.862\n",
      "Epoch: 10/30..  Training Loss: 0.276..  Test Loss: 0.377..  Test Accuracy: 0.875\n",
      "Epoch: 11/30..  Training Loss: 0.274..  Test Loss: 0.361..  Test Accuracy: 0.879\n",
      "Epoch: 12/30..  Training Loss: 0.257..  Test Loss: 0.380..  Test Accuracy: 0.875\n",
      "Epoch: 13/30..  Training Loss: 0.252..  Test Loss: 0.396..  Test Accuracy: 0.871\n",
      "Epoch: 14/30..  Training Loss: 0.247..  Test Loss: 0.355..  Test Accuracy: 0.879\n",
      "Epoch: 15/30..  Training Loss: 0.244..  Test Loss: 0.375..  Test Accuracy: 0.882\n",
      "Epoch: 16/30..  Training Loss: 0.242..  Test Loss: 0.381..  Test Accuracy: 0.880\n",
      "Epoch: 17/30..  Training Loss: 0.232..  Test Loss: 0.374..  Test Accuracy: 0.880\n",
      "Epoch: 18/30..  Training Loss: 0.231..  Test Loss: 0.386..  Test Accuracy: 0.882\n",
      "Epoch: 19/30..  Training Loss: 0.229..  Test Loss: 0.384..  Test Accuracy: 0.877\n",
      "Epoch: 20/30..  Training Loss: 0.222..  Test Loss: 0.373..  Test Accuracy: 0.883\n",
      "Epoch: 21/30..  Training Loss: 0.217..  Test Loss: 0.374..  Test Accuracy: 0.886\n",
      "Epoch: 22/30..  Training Loss: 0.212..  Test Loss: 0.408..  Test Accuracy: 0.876\n",
      "Epoch: 23/30..  Training Loss: 0.217..  Test Loss: 0.392..  Test Accuracy: 0.885\n",
      "Epoch: 24/30..  Training Loss: 0.201..  Test Loss: 0.380..  Test Accuracy: 0.886\n",
      "Epoch: 25/30..  Training Loss: 0.211..  Test Loss: 0.408..  Test Accuracy: 0.877\n",
      "Epoch: 26/30..  Training Loss: 0.215..  Test Loss: 0.433..  Test Accuracy: 0.873\n",
      "Epoch: 27/30..  Training Loss: 0.208..  Test Loss: 0.387..  Test Accuracy: 0.879\n",
      "Epoch: 28/30..  Training Loss: 0.200..  Test Loss: 0.427..  Test Accuracy: 0.883\n",
      "Epoch: 29/30..  Training Loss: 0.198..  Test Loss: 0.394..  Test Accuracy: 0.884\n",
      "Epoch: 30/30..  Training Loss: 0.191..  Test Loss: 0.394..  Test Accuracy: 0.885\n"
     ]
    }
   ],
   "source": [
    "model = Classifier()\n",
    "criterion = nn.NLLLoss()\n",
    "optimizer = optim.Adam(model.parameters(), lr=0.003)\n",
    "\n",
    "epochs = 30\n",
    "steps = 0\n",
    "\n",
    "train_losses, test_losses = [], []\n",
    "for e in range(epochs):\n",
    "    current_training_loss = 0\n",
    "    for images, labels in trainloader:\n",
    "        \n",
    "        optimizer.zero_grad()\n",
    "        \n",
    "        log_ps = model(images)\n",
    "        loss = criterion(log_ps, labels)\n",
    "        loss.backward()\n",
    "        optimizer.step()\n",
    "        current_training_loss+=loss.item()\n",
    "    else:\n",
    "        test_loss = 0\n",
    "        accuracy = 0\n",
    "        \n",
    "        with torch.no_grad():\n",
    "            for images, labels in testloader:\n",
    "                log_ps = model(images)\n",
    "                test_loss += criterion(log_ps, labels)\n",
    "                ps = torch.exp(log_ps)\n",
    "                top_p, top_class = ps.topk(1, dim=1) \n",
    "                equals = top_class == labels.view(*top_class.shape) \n",
    "                accuracy += torch.mean(equals.type(torch.FloatTensor))\n",
    "        train_losses.append(current_training_loss/len(trainloader))\n",
    "        test_losses.append(test_loss/len(testloader))\n",
    "\n",
    "        print(\"Epoch: {}/{}.. \".format(e+1, epochs),\n",
    "              \"Training Loss: {:.3f}.. \".format(current_training_loss/len(trainloader)),\n",
    "              \"Test Loss: {:.3f}.. \".format(test_loss/len(testloader)),\n",
    "              \"Test Accuracy: {:.3f}\".format(accuracy/len(testloader)))\n",
    "        "
   ]
  },
  {
   "cell_type": "code",
   "execution_count": 15,
   "metadata": {},
   "outputs": [
    {
     "data": {
      "text/plain": [
       "<matplotlib.legend.Legend at 0x11de174e0>"
      ]
     },
     "execution_count": 15,
     "metadata": {},
     "output_type": "execute_result"
    },
    {
     "data": {
      "image/png": "[encoded data removed]",
      "text/plain": [
       "<Figure size 432x288 with 1 Axes>"
      ]
     },
     "metadata": {
      "image/png": {
       "height": 250,
       "width": 380
      }
     },
     "output_type": "display_data"
    }
   ],
   "source": [
    "plt.plot(train_losses, label='Training loss')\n",
    "plt.plot(test_losses, label='Validation loss')\n",
    "plt.legend(frameon=False)"
   ]
  },
  {
   "cell_type": "markdown",
   "metadata": {},
   "source": [
    "### Same model with dropout to improve on overfitting"
   ]
  },
  {
   "cell_type": "code",
   "execution_count": 16,
   "metadata": {},
   "outputs": [],
   "source": [
    "class DropoutClassifier(nn.Module):\n",
    "    def __init__(self):\n",
    "        super().__init__()\n",
    "        self.layer1 = nn.Linear(784, 256)\n",
    "        self.layer2 = nn.Linear(256, 128)\n",
    "        self.layer3 = nn.Linear(128, 64)\n",
    "        self.layer4 = nn.Linear(64, 10)\n",
    "        \n",
    "        # Dropout \n",
    "        self.dropout = nn.Dropout(p=0.2)\n",
    "        \n",
    "    def forward(self, x):\n",
    "        #Flatten the image\n",
    "        x = x.view(x.shape[0], -1)\n",
    "        x = self.dropout(F.relu(self.layer1(x)))\n",
    "        x = self.dropout(F.relu(self.layer2(x)))\n",
    "        x = self.dropout(F.relu(self.layer3(x)))\n",
    "        x = F.log_softmax(self.layer4(x), dim=1)\n",
    "        \n",
    "        return x"
   ]
  },
  {
   "cell_type": "code",
   "execution_count": null,
   "metadata": {},
   "outputs": [],
   "source": [
    "model = DropoutClassifier()\n",
    "criterion = nn.NLLLoss()\n",
    "optimizer = optim.Adam(model.parameters(), lr=0.003)\n",
    "\n",
    "epochs = 30\n",
    "\n",
    "for e in range(epochs):\n",
    "    running_loss = 0\n",
    "    for images, labels in trainloader:\n",
    "        # training loop\n",
    "        optimizer.zero_grad()\n",
    "        \n",
    "        ps_logs = model(images)\n",
    "        loss = criterion(ps_logs, labels)\n",
    "        loss.backward()\n",
    "        optimizer.step()\n",
    "        running_loss += loss.item()\n",
    "    else:\n",
    "        # validation loop\n",
    "        test_loss = 0\n",
    "        accuracy = 0\n",
    "        \n",
    "        with torch.no_grad():\n",
    "            model.eval()\n",
    "            for images, labels in testloader:\n",
    "                # Do a forward pass on the testing data\n",
    "                logs_ps = model(images)\n",
    "                \n",
    "                # Get the test loss\n",
    "                test_loss += criterion(logs_ps, labels)\n",
    "                \n",
    "                # Convert the logs probabilities to probabilities\n",
    "                ps = torch.exp(logs_ps)\n",
    "                \n",
    "                # Get the predicted class from the probabilities \n",
    "                top_p, top_class = ps.topk(1, dim=1)\n",
    "                \n",
    "                # Compare the the predicted class with the true labels\n",
    "                equals = top_class == labels.view(*top_class.shape)\n",
    "                \n",
    "                # calculate the accuracy\n",
    "                accuracy += torch.mean(equals.type(torch.FloatTensor))\n",
    "        # Set the model back to training mode for the next epoch\n",
    "        model.train()\n",
    "        \n",
    "        # print summary statistics for each epoch\n",
    "        train_losses.append(running_loss/len(trainloader))\n",
    "        test_losses.append(test_loss/len(trainloader))\n",
    "        print(\"Epoch: {}/{}..\".format(e+1, epochs),\n",
    "              \"Training loss: {:.3f}..\".format(train_losses[-1]),\n",
    "              \"Test loss: {:.3f}..\".format(test_losses[-1]),\n",
    "              \"Test Accuracy: {:.3f}..\".format(accuracy/len(testloader))\n",
    "             )"
   ]
  }
 ],
 "metadata": {
  "kernelspec": {
   "display_name": "Python 3",
   "language": "python",
   "name": "python3"
  },
  "language_info": {
   "codemirror_mode": {
    "name": "ipython",
    "version": 3
   },
   "file_extension": ".py",
   "mimetype": "text/x-python",
   "name": "python",
   "nbconvert_exporter": "python",
   "pygments_lexer": "ipython3",
   "version": "3.6.5"
  }
 },
 "nbformat": 4,
 "nbformat_minor": 2
}
